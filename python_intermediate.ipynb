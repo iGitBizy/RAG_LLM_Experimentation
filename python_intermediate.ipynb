{
 "cells": [
  {
   "cell_type": "markdown",
   "metadata": {},
   "source": [
    "## LOOPS"
   ]
  },
  {
   "cell_type": "code",
   "execution_count": 9,
   "metadata": {},
   "outputs": [
    {
     "name": "stdout",
     "output_type": "stream",
     "text": [
      "People in the car: 0\n",
      "People in the car: 1\n",
      "People in the car: 2\n",
      "People in the car: 3\n",
      "People in the car: 4\n",
      "No more poeple allowed\n"
     ]
    }
   ],
   "source": [
    "# While Loops\n",
    "# while condition:\n",
    "#   code to execute \n",
    "\n",
    "people_in_car = 0\n",
    "\n",
    "while people_in_car < 5:\n",
    "    print(f\"People in the car: {people_in_car}\")\n",
    "    people_in_car += 1\n",
    "\n",
    "print(\"No more poeple allowed\")"
   ]
  },
  {
   "cell_type": "code",
   "execution_count": 10,
   "metadata": {},
   "outputs": [
    {
     "name": "stdout",
     "output_type": "stream",
     "text": [
      "0\n",
      "The number 1 is not even\n",
      "2\n",
      "The number 3 is not even\n",
      "4\n",
      "The number 5 is not even\n",
      "6\n",
      "The number 7 is not even\n",
      "8\n",
      "The number 9 is not even\n",
      "10\n",
      "The number 11 is not even\n",
      "12\n",
      "The number 13 is not even\n",
      "14\n",
      "The number 15 is not even\n",
      "16\n",
      "The number 17 is not even\n",
      "18\n",
      "The number 19 is not even\n",
      "20\n"
     ]
    }
   ],
   "source": [
    "# Print all even number until 10\n",
    "n = 20\n",
    "count = 0\n",
    "while count <= n:\n",
    "    if count % 2 == 0:\n",
    "        print(count)\n",
    "        count += 1        \n",
    "    else:\n",
    "        print(f\"The number {count} is not even\")\n",
    "        count += 1"
   ]
  },
  {
   "cell_type": "code",
   "execution_count": 19,
   "metadata": {},
   "outputs": [
    {
     "name": "stdout",
     "output_type": "stream",
     "text": [
      "T-minus 10 seconds\n",
      "T-minus 9 seconds\n",
      "T-minus 8 seconds\n",
      "T-minus 7 seconds\n",
      "T-minus 6 seconds\n",
      "T-minus 5 seconds\n",
      "T-minus 4 seconds\n",
      "T-minus 3 seconds\n",
      "T-minus 2 seconds\n",
      "T-minus 1 seconds\n",
      "Liftoff!\n"
     ]
    }
   ],
   "source": [
    "# Countdown Timer\n",
    "countdown = 10\n",
    "\n",
    "while countdown >= 0:\n",
    "    if countdown == 0:\n",
    "        print(\"Liftoff!\")\n",
    "    else:\n",
    "        print(f\"T-minus {countdown} seconds\")\n",
    "    countdown -= 1"
   ]
  },
  {
   "cell_type": "markdown",
   "metadata": {},
   "source": [
    "## List"
   ]
  },
  {
   "cell_type": "code",
   "execution_count": 23,
   "metadata": {},
   "outputs": [
    {
     "name": "stdout",
     "output_type": "stream",
     "text": [
      "This month, it was spent in total 8320\n"
     ]
    }
   ],
   "source": [
    "# Expense Report\n",
    "\"\"\"\n",
    "Calculate the sum of the expenses.\n",
    "Print out the total expenses. It is expected something similar to the following:\n",
    "This month, it was spent in total {total_expenses}\n",
    "\"\"\"\n",
    "\n",
    "monthly_expenses = [1200, 1350, 1050, 1450, 1150, 900, 1220]\n",
    "total_expenses = sum(monthly_expenses)\n",
    "\n",
    "print(f\"This month, it was spent in total {total_expenses}\")"
   ]
  },
  {
   "cell_type": "markdown",
   "metadata": {},
   "source": [
    "## Fibonacci Numbers\n"
   ]
  },
  {
   "cell_type": "code",
   "execution_count": 33,
   "metadata": {},
   "outputs": [
    {
     "name": "stdout",
     "output_type": "stream",
     "text": [
      "[0, 1, 1, 2, 3, 5, 8, 13, 21, 34]\n"
     ]
    }
   ],
   "source": [
    "# Fibonacci Numbers\n",
    "\"\"\" \n",
    "Write a program to calculate and print the first 10 numbers in the Fibonacci sequence. \n",
    "In this sequence, each number is the sum of the two preceding ones, starting from 1 and 1.\n",
    "\"\"\" \n",
    "first = 0\n",
    "second = 1\n",
    "fibonacci = []\n",
    "\n",
    "while len(fibonacci) < 10:\n",
    "    fibonacci.append(first)\n",
    "    third = first + second\n",
    "    first = second\n",
    "    second = third\n",
    "print(fibonacci) "
   ]
  },
  {
   "cell_type": "markdown",
   "metadata": {},
   "source": [
    "## Randomization"
   ]
  },
  {
   "cell_type": "code",
   "execution_count": 42,
   "metadata": {},
   "outputs": [
    {
     "name": "stdout",
     "output_type": "stream",
     "text": [
      "0.8634941697135888\n"
     ]
    }
   ],
   "source": [
    "import random \n",
    "# generate random float beteween 0 and 1\n",
    "print(random.random())\n"
   ]
  },
  {
   "cell_type": "code",
   "execution_count": 43,
   "metadata": {},
   "outputs": [
    {
     "name": "stdout",
     "output_type": "stream",
     "text": [
      "4\n"
     ]
    }
   ],
   "source": [
    "# generate random integer between 0 and 10\n",
    "print(random.randint(0, 10))"
   ]
  },
  {
   "cell_type": "code",
   "execution_count": 44,
   "metadata": {},
   "outputs": [
    {
     "data": {
      "text/plain": [
       "2.432465171179423"
      ]
     },
     "execution_count": 44,
     "metadata": {},
     "output_type": "execute_result"
    }
   ],
   "source": [
    "# generate random float within range\n",
    "random.uniform(1,5)"
   ]
  },
  {
   "cell_type": "code",
   "execution_count": 57,
   "metadata": {},
   "outputs": [
    {
     "data": {
      "text/plain": [
       "'apple'"
      ]
     },
     "execution_count": 57,
     "metadata": {},
     "output_type": "execute_result"
    }
   ],
   "source": [
    "# Choose random element from a list\n",
    "my_list = ['apple','oranges','cherry','tomato']\n",
    "random.choice(my_list)"
   ]
  },
  {
   "cell_type": "code",
   "execution_count": 62,
   "metadata": {},
   "outputs": [
    {
     "data": {
      "text/plain": [
       "['tomato', 'apple', 'cherry', 'oranges']"
      ]
     },
     "execution_count": 62,
     "metadata": {},
     "output_type": "execute_result"
    }
   ],
   "source": [
    "#shuffle a list\n",
    "random.shuffle(my_list)\n",
    "my_list"
   ]
  },
  {
   "cell_type": "code",
   "execution_count": null,
   "metadata": {},
   "outputs": [
    {
     "data": {
      "text/plain": [
       "['cherry', 'apple', 'tomato']"
      ]
     },
     "execution_count": 72,
     "metadata": {},
     "output_type": "execute_result"
    }
   ],
   "source": [
    "# choose 3 elements randomly from a list akak sampling\n",
    "random.sample(my_list, 3)"
   ]
  },
  {
   "cell_type": "code",
   "execution_count": 1,
   "metadata": {},
   "outputs": [
    {
     "name": "stdout",
     "output_type": "stream",
     "text": [
      "The remaining movies are ['The Matrix', 'Inception', 'The Dark Knight', 'Avengers: Endgame', 'Interstellar']\n",
      "The movie to watch is Avengers: Endgame\n",
      "The remaining movies are ['The Matrix', 'Inception', 'The Dark Knight', 'Interstellar']\n",
      "The movie to watch is The Matrix\n",
      "The remaining movies are ['Inception', 'The Dark Knight', 'Interstellar']\n",
      "The movie to watch is Inception\n",
      "The remaining movies are ['The Dark Knight', 'Interstellar']\n",
      "The movie to watch is The Dark Knight\n",
      "The remaining movies are ['Interstellar']\n",
      "The movie to watch is Interstellar\n"
     ]
    }
   ],
   "source": [
    "# Pick my next movie\n",
    "\"\"\" \n",
    "Create a program that randomly selects a movie from a list of provided movies. \n",
    "After a movie is selected, it should be removed from the list. \n",
    "Continue this process until all movies have been selected and the list is empty.\n",
    "\"\"\"\n",
    "import random\n",
    "remaining_movies = ['The Matrix', 'Inception', 'The Dark Knight', 'Avengers: Endgame', 'Interstellar']\n",
    "\n",
    "while remaining_movies:\n",
    "    # communicate the options\n",
    "    print(f\"The remaining movies are {remaining_movies}\")\n",
    "    #pick a movie\n",
    "    chosen_movie = random.choice(remaining_movies)\n",
    "    # communicate the movie to watch\n",
    "    print(f\"The movie to watch is {chosen_movie}\")\n",
    "    #remove the movie from the watch list\n",
    "    remaining_movies.remove(chosen_movie)\n",
    "\n",
    "\n",
    "# while remaining_movies:\n",
    "#     movie = random.choice(remaining_movies)\n",
    "#     print(movie)\n",
    "#     remaining_movies.remove(movie)\n",
    "# print(\"no more movies remain!\")\n",
    "\n",
    "    \n",
    "\n",
    "\n"
   ]
  },
  {
   "cell_type": "markdown",
   "metadata": {},
   "source": [
    "## Challenge Read my Mind"
   ]
  },
  {
   "cell_type": "code",
   "execution_count": null,
   "metadata": {},
   "outputs": [
    {
     "name": "stdout",
     "output_type": "stream",
     "text": [
      "99\n",
      "You have 5 attempt(s) remaining.\n",
      "Incorrect! Guess Higher\n",
      "You have 4 attempt(s) remaining.\n",
      "Incorrect! Guess Higher\n",
      "You have 3 attempt(s) remaining.\n",
      "Incorrect! Guess Higher\n",
      "You have 2 attempt(s) remaining.\n",
      "Incorrect! Guess Higher\n",
      "You have 1 attempt(s) remaining.\n",
      "Incorrect! Guess Higher\n",
      "No more attempts remaining\n",
      "The secret number was 99.\n"
     ]
    }
   ],
   "source": [
    "import random \n",
    "\n",
    "#generate secret number between 1 and 100\n",
    "secret = random.randint(1,100)\n",
    "\n",
    "flag = True\n",
    "attempts_remaining = 5\n",
    "while flag:\n",
    "    # allow user only 5 attempts to guess correctly keep track of remaining attempts as the game progress\n",
    "    if attempts_remaining == 0:\n",
    "        print(\"No more attempts remaining\")\n",
    "        flag = False\n",
    "    else: \n",
    "        #communicate number of attempts remaining \n",
    "        print(f\"You have {attempts_remaining} attempt(s) remaining.\")\n",
    "        # accept user input prmot user to enter their guess for the secret number. make sure to convert to an integer\n",
    "        guess = int(input(\"Guess a Number between 1 and 100: \"))\n",
    "\n",
    "        # if user successfully guesses the secret number within the allowed attempts congratulate them.\n",
    "        if guess == secret:\n",
    "            print(\"Congrats you guess it!\")\n",
    "            flag = False\n",
    "            exit \n",
    "\n",
    "        # provide hints for each incorrect guess give the user a hint to guide their next attempt inform them if they need to guess higher or lower\n",
    "        elif guess > secret:\n",
    "            print(\"Incorrect! Guess Lower\")\n",
    "            attempts_remaining -= 1\n",
    "\n",
    "        elif guess < secret:\n",
    "            print(\"Incorrect! Guess Higher\")\n",
    "            attempts_remaining -= 1\n",
    "\n",
    "\n",
    "print(f\"The secret number was {secret}.\")\n",
    "    \n",
    "    \n"
   ]
  },
  {
   "cell_type": "markdown",
   "metadata": {},
   "source": [
    "## Dictionaries"
   ]
  },
  {
   "cell_type": "code",
   "execution_count": null,
   "metadata": {},
   "outputs": [
    {
     "name": "stdout",
     "output_type": "stream",
     "text": [
      "The possibiliies are ['mew', 'woof', 'grr']\n",
      "The magical pet said 'nonsense'\n"
     ]
    }
   ],
   "source": [
    "# Create a pet sound dictionary\n",
    "# magical pet sounds\n",
    "pet_sounds = {'mew': 'I am hungry',\n",
    "              'woof': 'I want to play',\n",
    "              'grr' : 'I am angry'}\n",
    "\n",
    "# Create a python code that gets the input\n",
    "print(f\"The possibiliies are {list(pet_sounds.keys())}\")\n",
    "sound = input(\"Enter the magical sound: \")\n",
    "\n",
    "# Interpretation\n",
    "# meaning = pet_sounds[sound]\n",
    "meaning = pet_sounds.get(sound, \"nonsense\") # provides alt text argument aka safer way to provide input incase error\n",
    "\n",
    "# communicate the findings\n",
    "print(f\"The magical pet said '{meaning}'\")"
   ]
  },
  {
   "cell_type": "markdown",
   "metadata": {},
   "source": [
    "## Challenge Budget Mastermind"
   ]
  },
  {
   "cell_type": "code",
   "execution_count": null,
   "metadata": {},
   "outputs": [],
   "source": [
    "\"\"\" Create data structures: define neccesary data structures for storing the users transactions,\n",
    "    income, and expenses. Use lists and dictionaries to manage and categorize data\n",
    "    \n",
    "    User input loop: implement  a loop to continously prompt the user to enter their transactions. Ask\n",
    "    them to specify wheter the transaction is income or expense, and request the source (for income) or\n",
    "    category(for expenses) and the amount. \n",
    "\n",
    "    add transactions: Whe the user inputs a transaction, update the corresponding income or expense \n",
    "    dictionary, and stroe the transaction details in thel ist of transactions. please add\n",
    "\n",
    "\n"
   ]
  }
 ],
 "metadata": {
  "kernelspec": {
   "display_name": ".venv",
   "language": "python",
   "name": "python3"
  },
  "language_info": {
   "codemirror_mode": {
    "name": "ipython",
    "version": 3
   },
   "file_extension": ".py",
   "mimetype": "text/x-python",
   "name": "python",
   "nbconvert_exporter": "python",
   "pygments_lexer": "ipython3",
   "version": "3.11.0"
  }
 },
 "nbformat": 4,
 "nbformat_minor": 2
}
