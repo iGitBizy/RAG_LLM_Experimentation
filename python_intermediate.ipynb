{
 "cells": [
  {
   "cell_type": "markdown",
   "metadata": {},
   "source": [
    "## LOOPS"
   ]
  },
  {
   "cell_type": "code",
   "execution_count": 9,
   "metadata": {},
   "outputs": [
    {
     "name": "stdout",
     "output_type": "stream",
     "text": [
      "People in the car: 0\n",
      "People in the car: 1\n",
      "People in the car: 2\n",
      "People in the car: 3\n",
      "People in the car: 4\n",
      "No more poeple allowed\n"
     ]
    }
   ],
   "source": [
    "# While Loops\n",
    "# while condition:\n",
    "#   code to execute \n",
    "\n",
    "people_in_car = 0\n",
    "\n",
    "while people_in_car < 5:\n",
    "    print(f\"People in the car: {people_in_car}\")\n",
    "    people_in_car += 1\n",
    "\n",
    "print(\"No more poeple allowed\")"
   ]
  },
  {
   "cell_type": "code",
   "execution_count": 10,
   "metadata": {},
   "outputs": [
    {
     "name": "stdout",
     "output_type": "stream",
     "text": [
      "0\n",
      "The number 1 is not even\n",
      "2\n",
      "The number 3 is not even\n",
      "4\n",
      "The number 5 is not even\n",
      "6\n",
      "The number 7 is not even\n",
      "8\n",
      "The number 9 is not even\n",
      "10\n",
      "The number 11 is not even\n",
      "12\n",
      "The number 13 is not even\n",
      "14\n",
      "The number 15 is not even\n",
      "16\n",
      "The number 17 is not even\n",
      "18\n",
      "The number 19 is not even\n",
      "20\n"
     ]
    }
   ],
   "source": [
    "# Print all even number until 10\n",
    "n = 20\n",
    "count = 0\n",
    "while count <= n:\n",
    "    if count % 2 == 0:\n",
    "        print(count)\n",
    "        count += 1        \n",
    "    else:\n",
    "        print(f\"The number {count} is not even\")\n",
    "        count += 1"
   ]
  },
  {
   "cell_type": "code",
   "execution_count": 19,
   "metadata": {},
   "outputs": [
    {
     "name": "stdout",
     "output_type": "stream",
     "text": [
      "T-minus 10 seconds\n",
      "T-minus 9 seconds\n",
      "T-minus 8 seconds\n",
      "T-minus 7 seconds\n",
      "T-minus 6 seconds\n",
      "T-minus 5 seconds\n",
      "T-minus 4 seconds\n",
      "T-minus 3 seconds\n",
      "T-minus 2 seconds\n",
      "T-minus 1 seconds\n",
      "Liftoff!\n"
     ]
    }
   ],
   "source": [
    "# Countdown Timer\n",
    "countdown = 10\n",
    "\n",
    "while countdown >= 0:\n",
    "    if countdown == 0:\n",
    "        print(\"Liftoff!\")\n",
    "    else:\n",
    "        print(f\"T-minus {countdown} seconds\")\n",
    "    countdown -= 1"
   ]
  },
  {
   "cell_type": "markdown",
   "metadata": {},
   "source": [
    "## List"
   ]
  },
  {
   "cell_type": "code",
   "execution_count": 23,
   "metadata": {},
   "outputs": [
    {
     "name": "stdout",
     "output_type": "stream",
     "text": [
      "This month, it was spent in total 8320\n"
     ]
    }
   ],
   "source": [
    "# Expense Report\n",
    "\"\"\"\n",
    "Calculate the sum of the expenses.\n",
    "Print out the total expenses. It is expected something similar to the following:\n",
    "This month, it was spent in total {total_expenses}\n",
    "\"\"\"\n",
    "\n",
    "monthly_expenses = [1200, 1350, 1050, 1450, 1150, 900, 1220]\n",
    "total_expenses = sum(monthly_expenses)\n",
    "\n",
    "print(f\"This month, it was spent in total {total_expenses}\")"
   ]
  },
  {
   "cell_type": "markdown",
   "metadata": {},
   "source": [
    "## Fibonacci Numbers\n"
   ]
  },
  {
   "cell_type": "code",
   "execution_count": 33,
   "metadata": {},
   "outputs": [
    {
     "name": "stdout",
     "output_type": "stream",
     "text": [
      "[0, 1, 1, 2, 3, 5, 8, 13, 21, 34]\n"
     ]
    }
   ],
   "source": [
    "# Fibonacci Numbers\n",
    "\"\"\" \n",
    "Write a program to calculate and print the first 10 numbers in the Fibonacci sequence. \n",
    "In this sequence, each number is the sum of the two preceding ones, starting from 1 and 1.\n",
    "\"\"\" \n",
    "first = 0\n",
    "second = 1\n",
    "fibonacci = []\n",
    "\n",
    "while len(fibonacci) < 10:\n",
    "    fibonacci.append(first)\n",
    "    third = first + second\n",
    "    first = second\n",
    "    second = third\n",
    "print(fibonacci) "
   ]
  },
  {
   "cell_type": "markdown",
   "metadata": {},
   "source": [
    "## Randomization"
   ]
  },
  {
   "cell_type": "code",
   "execution_count": 42,
   "metadata": {},
   "outputs": [
    {
     "name": "stdout",
     "output_type": "stream",
     "text": [
      "0.8634941697135888\n"
     ]
    }
   ],
   "source": [
    "import random \n",
    "# generate random float beteween 0 and 1\n",
    "print(random.random())\n"
   ]
  },
  {
   "cell_type": "code",
   "execution_count": 43,
   "metadata": {},
   "outputs": [
    {
     "name": "stdout",
     "output_type": "stream",
     "text": [
      "4\n"
     ]
    }
   ],
   "source": [
    "# generate random integer between 0 and 10\n",
    "print(random.randint(0, 10))"
   ]
  },
  {
   "cell_type": "code",
   "execution_count": 44,
   "metadata": {},
   "outputs": [
    {
     "data": {
      "text/plain": [
       "2.432465171179423"
      ]
     },
     "execution_count": 44,
     "metadata": {},
     "output_type": "execute_result"
    }
   ],
   "source": [
    "# generate random float within range\n",
    "random.uniform(1,5)"
   ]
  },
  {
   "cell_type": "code",
   "execution_count": 57,
   "metadata": {},
   "outputs": [
    {
     "data": {
      "text/plain": [
       "'apple'"
      ]
     },
     "execution_count": 57,
     "metadata": {},
     "output_type": "execute_result"
    }
   ],
   "source": [
    "# Choose random element from a list\n",
    "my_list = ['apple','oranges','cherry','tomato']\n",
    "random.choice(my_list)"
   ]
  },
  {
   "cell_type": "code",
   "execution_count": 62,
   "metadata": {},
   "outputs": [
    {
     "data": {
      "text/plain": [
       "['tomato', 'apple', 'cherry', 'oranges']"
      ]
     },
     "execution_count": 62,
     "metadata": {},
     "output_type": "execute_result"
    }
   ],
   "source": [
    "#shuffle a list\n",
    "random.shuffle(my_list)\n",
    "my_list"
   ]
  },
  {
   "cell_type": "code",
   "execution_count": null,
   "metadata": {},
   "outputs": [
    {
     "data": {
      "text/plain": [
       "['cherry', 'apple', 'tomato']"
      ]
     },
     "execution_count": 72,
     "metadata": {},
     "output_type": "execute_result"
    }
   ],
   "source": [
    "# choose 3 elements randomly from a list akak sampling\n",
    "random.sample(my_list, 3)"
   ]
  },
  {
   "cell_type": "code",
   "execution_count": 1,
   "metadata": {},
   "outputs": [
    {
     "name": "stdout",
     "output_type": "stream",
     "text": [
      "The remaining movies are ['The Matrix', 'Inception', 'The Dark Knight', 'Avengers: Endgame', 'Interstellar']\n",
      "The movie to watch is Avengers: Endgame\n",
      "The remaining movies are ['The Matrix', 'Inception', 'The Dark Knight', 'Interstellar']\n",
      "The movie to watch is The Matrix\n",
      "The remaining movies are ['Inception', 'The Dark Knight', 'Interstellar']\n",
      "The movie to watch is Inception\n",
      "The remaining movies are ['The Dark Knight', 'Interstellar']\n",
      "The movie to watch is The Dark Knight\n",
      "The remaining movies are ['Interstellar']\n",
      "The movie to watch is Interstellar\n"
     ]
    }
   ],
   "source": [
    "# Pick my next movie\n",
    "\"\"\" \n",
    "Create a program that randomly selects a movie from a list of provided movies. \n",
    "After a movie is selected, it should be removed from the list. \n",
    "Continue this process until all movies have been selected and the list is empty.\n",
    "\"\"\"\n",
    "import random\n",
    "remaining_movies = ['The Matrix', 'Inception', 'The Dark Knight', 'Avengers: Endgame', 'Interstellar']\n",
    "\n",
    "while remaining_movies:\n",
    "    # communicate the options\n",
    "    print(f\"The remaining movies are {remaining_movies}\")\n",
    "    #pick a movie\n",
    "    chosen_movie = random.choice(remaining_movies)\n",
    "    # communicate the movie to watch\n",
    "    print(f\"The movie to watch is {chosen_movie}\")\n",
    "    #remove the movie from the watch list\n",
    "    remaining_movies.remove(chosen_movie)\n",
    "\n",
    "\n",
    "# while remaining_movies:\n",
    "#     movie = random.choice(remaining_movies)\n",
    "#     print(movie)\n",
    "#     remaining_movies.remove(movie)\n",
    "# print(\"no more movies remain!\")\n",
    "\n",
    "    \n",
    "\n",
    "\n"
   ]
  },
  {
   "cell_type": "markdown",
   "metadata": {},
   "source": [
    "## Challenge Read my Mind"
   ]
  },
  {
   "cell_type": "code",
   "execution_count": null,
   "metadata": {},
   "outputs": [
    {
     "name": "stdout",
     "output_type": "stream",
     "text": [
      "99\n",
      "You have 5 attempt(s) remaining.\n",
      "Incorrect! Guess Higher\n",
      "You have 4 attempt(s) remaining.\n",
      "Incorrect! Guess Higher\n",
      "You have 3 attempt(s) remaining.\n",
      "Incorrect! Guess Higher\n",
      "You have 2 attempt(s) remaining.\n",
      "Incorrect! Guess Higher\n",
      "You have 1 attempt(s) remaining.\n",
      "Incorrect! Guess Higher\n",
      "No more attempts remaining\n",
      "The secret number was 99.\n"
     ]
    }
   ],
   "source": [
    "import random \n",
    "\n",
    "#generate secret number between 1 and 100\n",
    "secret = random.randint(1,100)\n",
    "\n",
    "flag = True\n",
    "attempts_remaining = 5\n",
    "while flag:\n",
    "    # allow user only 5 attempts to guess correctly keep track of remaining attempts as the game progress\n",
    "    if attempts_remaining == 0:\n",
    "        print(\"No more attempts remaining\")\n",
    "        flag = False\n",
    "    else: \n",
    "        #communicate number of attempts remaining \n",
    "        print(f\"You have {attempts_remaining} attempt(s) remaining.\")\n",
    "        # accept user input prmot user to enter their guess for the secret number. make sure to convert to an integer\n",
    "        guess = int(input(\"Guess a Number between 1 and 100: \"))\n",
    "\n",
    "        # if user successfully guesses the secret number within the allowed attempts congratulate them.\n",
    "        if guess == secret:\n",
    "            print(\"Congrats you guess it!\")\n",
    "            flag = False\n",
    "            exit \n",
    "\n",
    "        # provide hints for each incorrect guess give the user a hint to guide their next attempt inform them if they need to guess higher or lower\n",
    "        elif guess > secret:\n",
    "            print(\"Incorrect! Guess Lower\")\n",
    "            attempts_remaining -= 1\n",
    "\n",
    "        elif guess < secret:\n",
    "            print(\"Incorrect! Guess Higher\")\n",
    "            attempts_remaining -= 1\n",
    "\n",
    "\n",
    "print(f\"The secret number was {secret}.\")\n",
    "    \n",
    "    \n"
   ]
  },
  {
   "cell_type": "markdown",
   "metadata": {},
   "source": [
    "## Dictionaries"
   ]
  },
  {
   "cell_type": "code",
   "execution_count": 2,
   "metadata": {
    "tags": []
   },
   "outputs": [
    {
     "name": "stdout",
     "output_type": "stream",
     "text": [
      "The possibilities are ['mew', 'woof', 'grr']\n"
     ]
    },
    {
     "name": "stdin",
     "output_type": "stream",
     "text": [
      "Enter the magical sound:  mew\n"
     ]
    },
    {
     "name": "stdout",
     "output_type": "stream",
     "text": [
      "The magical pet said 'I am hungry'\n"
     ]
    }
   ],
   "source": [
    "# Creat a pet sound dictionary\n",
    "# magical pet sounds\n",
    "pet_sounds = {'mew' : 'I am hungry',\n",
    "              'woof' : 'I want to play',\n",
    "              'grr' : 'I am angry'}\n",
    "\n",
    "# create a python codce that gets the input\n",
    "print(f\"The possibilities are {list(pet_sounds.keys())}\")\n",
    "sound = input(\"Enter the magical sound: \")\n",
    "\n",
    "# Integration\n",
    "# meaning = pet_sounds[sound]\n",
    "meaning = pet_sounds.get(sound, \"nonsense\") # provides alt text argument aka safer way to provide input incase error\n",
    "\n",
    "# communicate the findings \n",
    "print(f\"The magical pet said '{meaning}'\")"
   ]
  },
  {
   "cell_type": "markdown",
   "metadata": {},
   "source": [
    "## Challenge Budge Mastermind"
   ]
  },
  {
   "cell_type": "code",
   "execution_count": 38,
   "metadata": {
    "tags": []
   },
   "outputs": [
    {
     "name": "stdin",
     "output_type": "stream",
     "text": [
      "\n",
      "Is it an income or expense?:  income\n",
      "Enter the source of Income (salry, investments, other):  salary\n",
      "Enter the amount:  235143\n",
      "\n",
      "Is it an income or expense?:  expense\n",
      "Enter the category of Expense (groceries, entertainment, shopping, other):  other\n",
      "Enter the amount:  3412541\n",
      "\n",
      "Is it an income or expense?:  no\n"
     ]
    },
    {
     "name": "stdout",
     "output_type": "stream",
     "text": [
      "\n",
      "Transactions Complete!\n",
      "Your transactions: [{'transaction_type': 'income', 'source': 'salary', 'amount': 235143.0}, {'transaction_type': 'expense', 'category': 'other', 'amount': 3412541.0}]\n",
      "\n",
      "Total Income: 235143.0\n",
      "Total Expese: 3412541.0\n",
      "\n",
      "Final Balanace: -3177398.0\n"
     ]
    }
   ],
   "source": [
    "\"\"\"\n",
    "Create data structures: Define neccessary structures for storing the user's transactions, income, and\n",
    "expenses, Use lists and dictionaries to manage and categorize financial data.\n",
    "\n",
    "User input Loop: implement a loop continuously prompt the user to enter their transactions. Ask them to specify\n",
    "whether the transaction is income or an expense, and request the source (for income) or category (for \n",
    "expenses) and the amount. \n",
    "\n",
    "Add transactions: When the user inputs a transaction, update the corresponding income or expense dictionary, \n",
    "and store the transaction details in the list of transactions.\n",
    "\n",
    "Exit loop: Allow the user to exit the input loop by entering an invalid transaction type.\n",
    "\n",
    "calculate balance: After the loop, compute the user's balance by subtracting the sum of their expenses from the\n",
    "sum of their income.\n",
    "\n",
    "Display results: Print the user's transactions, income, expenses, and overall balance in a clear and user-friendly\n",
    "format.\n",
    "\n",
    "\"\"\"\n",
    "\n",
    "# 1 Create data structures\n",
    "income = {'salary': 0, 'investments': 0, 'other': 0}\n",
    "expense = {'groceries': 0, 'entertainment': 0, 'shopping': 0, 'other': 0}\n",
    "transactions = []\n",
    "# user input loop \n",
    "\n",
    "while True:\n",
    "    \n",
    "    # transactions = []\n",
    "    \n",
    "    # ask if income or ask expnese\n",
    "    trans_type = input(\"\\nIs it an income or expense?: \")\n",
    "\n",
    "    # if income categorize accordingly\n",
    "    if trans_type == \"income\":\n",
    "        source = input(\"Enter the source of Income (salry, investments, other): \")\n",
    "        amount = float(input(\"Enter the amount: \"))\n",
    "        income[source] += amount\n",
    "        transactions.append(dict(transaction_type = trans_type,\n",
    "                                 source =  source,\n",
    "                                 amount = amount ))\n",
    "        \n",
    "    # if expense, categorize\n",
    "    elif trans_type == \"expense\":\n",
    "        cat = input(\"Enter the category of Expense (groceries, entertainment, shopping, other): \")\n",
    "        amount = float(input(\"Enter the amount: \"))\n",
    "        expense[cat]  += amount\n",
    "        transactions.append(dict(transaction_type = trans_type,\n",
    "                                 category =  cat,\n",
    "                                 amount = amount ))\n",
    "        \n",
    "    # otherwise stop\n",
    "    else:\n",
    "        print(\"\\nTransactions Complete!\")\n",
    "        break\n",
    "        \n",
    "# Calculations\n",
    "total_income = sum(income.values())\n",
    "total_expense = sum(expense.values())\n",
    "balance = total_income - total_expense\n",
    "\n",
    "# Display results\n",
    "print(f\"Your transactions: {transactions}\\n\")\n",
    "print(f\"Total Income: {total_income}\")\n",
    "print(f\"Total Expese: {total_expense}\\n\")\n",
    "print(f\"Final Balanace: {balance}\")\n"
   ]
  },
  {
   "cell_type": "markdown",
   "metadata": {},
   "source": [
    "## For Loops"
   ]
  },
  {
   "cell_type": "code",
   "execution_count": 48,
   "metadata": {
    "tags": []
   },
   "outputs": [
    {
     "name": "stdin",
     "output_type": "stream",
     "text": [
      "Enter a number:  4\n"
     ]
    },
    {
     "name": "stdout",
     "output_type": "stream",
     "text": [
      "1\n",
      "The total sum is 1\n",
      "2\n",
      "The total sum is 3\n",
      "3\n",
      "The total sum is 6\n",
      "4\n",
      "The total sum is 10\n"
     ]
    }
   ],
   "source": [
    "# sum of numbers\n",
    "total_sum = 0\n",
    "num = int(input(\"Enter a number: \"))\n",
    "for i in range(1, num + 1):\n",
    "    print(i)\n",
    "    total_sum += i\n",
    "    print(f\"The total sum is {total_sum}\")"
   ]
  },
  {
   "cell_type": "code",
   "execution_count": 60,
   "metadata": {
    "tags": []
   },
   "outputs": [
    {
     "name": "stdin",
     "output_type": "stream",
     "text": [
      "Enter a string:  otot\n",
      "Enter character to search for:  t\n"
     ]
    },
    {
     "name": "stdout",
     "output_type": "stream",
     "text": [
      "The character \"t\" appears in \"otot\" 2 times.\n"
     ]
    }
   ],
   "source": [
    "# count num of times a charcter appears in a string\n",
    "string = input(\"Enter a string: \")\n",
    "char = input(\"Enter character to search for: \")\n",
    "count = 0\n",
    "\n",
    "for i in string:\n",
    "    if char == i:\n",
    "        count += 1\n",
    "        \n",
    "print(f'The character \"{char}\" appears in \"{string}\" {count} times.')"
   ]
  },
  {
   "cell_type": "code",
   "execution_count": 63,
   "metadata": {
    "tags": []
   },
   "outputs": [
    {
     "name": "stdin",
     "output_type": "stream",
     "text": [
      "Enter a word or sequence:  Thefsioherw\n"
     ]
    },
    {
     "name": "stdout",
     "output_type": "stream",
     "text": [
      "t: 1\n",
      "h: 2\n",
      "e: 2\n",
      "f: 1\n",
      "s: 1\n",
      "i: 1\n",
      "o: 1\n",
      "r: 1\n",
      "w: 1\n"
     ]
    }
   ],
   "source": [
    "#reccomended solution\n",
    "string = input(\"Enter a word or sequence: \").lower()\n",
    "char_count = {}\n",
    "for char in string:\n",
    "    if char in char_count:\n",
    "        char_count[char] += 1\n",
    "    else:\n",
    "        char_count[char] = 1\n",
    "for char, count in char_count.items():\n",
    "    print(f\"{char}: {count}\")"
   ]
  },
  {
   "cell_type": "code",
   "execution_count": 52,
   "metadata": {
    "tags": []
   },
   "outputs": [
    {
     "data": {
      "text/plain": [
       "True"
      ]
     },
     "execution_count": 52,
     "metadata": {},
     "output_type": "execute_result"
    }
   ],
   "source": []
  },
  {
   "cell_type": "code",
   "execution_count": null,
   "metadata": {},
   "outputs": [],
   "source": []
  }
 ],
 "metadata": {
  "kernelspec": {
   "display_name": "Python 3 (ipykernel)",
   "language": "python",
   "name": "python3"
  },
  "language_info": {
   "codemirror_mode": {
    "name": "ipython",
    "version": 3
   },
   "file_extension": ".py",
   "mimetype": "text/x-python",
   "name": "python",
   "nbconvert_exporter": "python",
   "pygments_lexer": "ipython3",
   "version": "3.11.6"
  }
 },
 "nbformat": 4,
 "nbformat_minor": 4
}
