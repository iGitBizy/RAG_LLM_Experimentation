{
 "cells": [
  {
   "cell_type": "markdown",
   "metadata": {},
   "source": [
    "## LOOPS"
   ]
  },
  {
   "cell_type": "code",
   "execution_count": 9,
   "metadata": {},
   "outputs": [
    {
     "name": "stdout",
     "output_type": "stream",
     "text": [
      "People in the car: 0\n",
      "People in the car: 1\n",
      "People in the car: 2\n",
      "People in the car: 3\n",
      "People in the car: 4\n",
      "No more poeple allowed\n"
     ]
    }
   ],
   "source": [
    "# While Loops\n",
    "# while condition:\n",
    "#   code to execute \n",
    "\n",
    "people_in_car = 0\n",
    "\n",
    "while people_in_car < 5:\n",
    "    print(f\"People in the car: {people_in_car}\")\n",
    "    people_in_car += 1\n",
    "\n",
    "print(\"No more poeple allowed\")"
   ]
  },
  {
   "cell_type": "code",
   "execution_count": 10,
   "metadata": {},
   "outputs": [
    {
     "name": "stdout",
     "output_type": "stream",
     "text": [
      "0\n",
      "The number 1 is not even\n",
      "2\n",
      "The number 3 is not even\n",
      "4\n",
      "The number 5 is not even\n",
      "6\n",
      "The number 7 is not even\n",
      "8\n",
      "The number 9 is not even\n",
      "10\n",
      "The number 11 is not even\n",
      "12\n",
      "The number 13 is not even\n",
      "14\n",
      "The number 15 is not even\n",
      "16\n",
      "The number 17 is not even\n",
      "18\n",
      "The number 19 is not even\n",
      "20\n"
     ]
    }
   ],
   "source": [
    "# Print all even number until 10\n",
    "n = 20\n",
    "count = 0\n",
    "while count <= n:\n",
    "    if count % 2 == 0:\n",
    "        print(count)\n",
    "        count += 1        \n",
    "    else:\n",
    "        print(f\"The number {count} is not even\")\n",
    "        count += 1"
   ]
  },
  {
   "cell_type": "code",
   "execution_count": 19,
   "metadata": {},
   "outputs": [
    {
     "name": "stdout",
     "output_type": "stream",
     "text": [
      "T-minus 10 seconds\n",
      "T-minus 9 seconds\n",
      "T-minus 8 seconds\n",
      "T-minus 7 seconds\n",
      "T-minus 6 seconds\n",
      "T-minus 5 seconds\n",
      "T-minus 4 seconds\n",
      "T-minus 3 seconds\n",
      "T-minus 2 seconds\n",
      "T-minus 1 seconds\n",
      "Liftoff!\n"
     ]
    }
   ],
   "source": [
    "# Countdown Timer\n",
    "countdown = 10\n",
    "\n",
    "while countdown >= 0:\n",
    "    if countdown == 0:\n",
    "        print(\"Liftoff!\")\n",
    "    else:\n",
    "        print(f\"T-minus {countdown} seconds\")\n",
    "    countdown -= 1"
   ]
  },
  {
   "cell_type": "markdown",
   "metadata": {},
   "source": [
    "## List"
   ]
  },
  {
   "cell_type": "code",
   "execution_count": 23,
   "metadata": {},
   "outputs": [
    {
     "name": "stdout",
     "output_type": "stream",
     "text": [
      "This month, it was spent in total 8320\n"
     ]
    }
   ],
   "source": [
    "# Expense Report\n",
    "\"\"\"\n",
    "Calculate the sum of the expenses.\n",
    "Print out the total expenses. It is expected something similar to the following:\n",
    "This month, it was spent in total {total_expenses}\n",
    "\"\"\"\n",
    "\n",
    "monthly_expenses = [1200, 1350, 1050, 1450, 1150, 900, 1220]\n",
    "total_expenses = sum(monthly_expenses)\n",
    "\n",
    "print(f\"This month, it was spent in total {total_expenses}\")"
   ]
  },
  {
   "cell_type": "markdown",
   "metadata": {},
   "source": [
    "## Fibonacci Numbers\n"
   ]
  },
  {
   "cell_type": "code",
   "execution_count": 33,
   "metadata": {},
   "outputs": [
    {
     "name": "stdout",
     "output_type": "stream",
     "text": [
      "[0, 1, 1, 2, 3, 5, 8, 13, 21, 34]\n"
     ]
    }
   ],
   "source": [
    "# Fibonacci Numbers\n",
    "\"\"\" \n",
    "Write a program to calculate and print the first 10 numbers in the Fibonacci sequence. \n",
    "In this sequence, each number is the sum of the two preceding ones, starting from 1 and 1.\n",
    "\"\"\" \n",
    "first = 0\n",
    "second = 1\n",
    "fibonacci = []\n",
    "\n",
    "while len(fibonacci) < 10:\n",
    "    fibonacci.append(first)\n",
    "    third = first + second\n",
    "    first = second\n",
    "    second = third\n",
    "print(fibonacci) "
   ]
  },
  {
   "cell_type": "markdown",
   "metadata": {},
   "source": [
    "## Randomization"
   ]
  },
  {
   "cell_type": "code",
   "execution_count": 42,
   "metadata": {},
   "outputs": [
    {
     "name": "stdout",
     "output_type": "stream",
     "text": [
      "0.8634941697135888\n"
     ]
    }
   ],
   "source": [
    "import random \n",
    "# generate random float beteween 0 and 1\n",
    "print(random.random())\n"
   ]
  },
  {
   "cell_type": "code",
   "execution_count": 43,
   "metadata": {},
   "outputs": [
    {
     "name": "stdout",
     "output_type": "stream",
     "text": [
      "4\n"
     ]
    }
   ],
   "source": [
    "# generate random integer between 0 and 10\n",
    "print(random.randint(0, 10))"
   ]
  },
  {
   "cell_type": "code",
   "execution_count": 44,
   "metadata": {},
   "outputs": [
    {
     "data": {
      "text/plain": [
       "2.432465171179423"
      ]
     },
     "execution_count": 44,
     "metadata": {},
     "output_type": "execute_result"
    }
   ],
   "source": [
    "# generate random float within range\n",
    "random.uniform(1,5)"
   ]
  },
  {
   "cell_type": "code",
   "execution_count": 57,
   "metadata": {},
   "outputs": [
    {
     "data": {
      "text/plain": [
       "'apple'"
      ]
     },
     "execution_count": 57,
     "metadata": {},
     "output_type": "execute_result"
    }
   ],
   "source": [
    "# Choose random element from a list\n",
    "my_list = ['apple','oranges','cherry','tomato']\n",
    "random.choice(my_list)"
   ]
  },
  {
   "cell_type": "code",
   "execution_count": 62,
   "metadata": {},
   "outputs": [
    {
     "data": {
      "text/plain": [
       "['tomato', 'apple', 'cherry', 'oranges']"
      ]
     },
     "execution_count": 62,
     "metadata": {},
     "output_type": "execute_result"
    }
   ],
   "source": [
    "#shuffle a list\n",
    "random.shuffle(my_list)\n",
    "my_list"
   ]
  },
  {
   "cell_type": "code",
   "execution_count": 72,
   "metadata": {},
   "outputs": [
    {
     "data": {
      "text/plain": [
       "['cherry', 'apple', 'tomato']"
      ]
     },
     "execution_count": 72,
     "metadata": {},
     "output_type": "execute_result"
    }
   ],
   "source": [
    "# choose 3 elements randomly from a list akak sampling\n",
    "random.sample(my_list, 3)"
   ]
  },
  {
   "cell_type": "code",
   "execution_count": 76,
   "metadata": {},
   "outputs": [
    {
     "name": "stdout",
     "output_type": "stream",
     "text": [
      "The Matrix\n",
      "The Dark Knight\n",
      "Inception\n",
      "Avengers: Endgame\n",
      "Interstellar\n",
      "no more movies remain!\n"
     ]
    }
   ],
   "source": [
    "# Pick my next movie\n",
    "\"\"\" \n",
    "Create a program that randomly selects a movie from a list of provided movies. \n",
    "After a movie is selected, it should be removed from the list. \n",
    "Continue this process until all movies have been selected and the list is empty.\n",
    "\"\"\"\n",
    "import random\n",
    "remaining_movies = ['The Matrix', 'Inception', 'The Dark Knight', 'Avengers: Endgame', 'Interstellar']\n",
    "\n",
    "while remaining_movies:\n",
    "    movie = random.choice(remaining_movies)\n",
    "    print(movie)\n",
    "    remaining_movies.remove(movie)\n",
    "print(\"no more movies remain!\")\n",
    "\n",
    "    \n",
    "\n",
    "\n"
   ]
  },
  {
   "cell_type": "code",
   "execution_count": null,
   "metadata": {},
   "outputs": [],
   "source": []
  }
 ],
 "metadata": {
  "kernelspec": {
   "display_name": ".venv",
   "language": "python",
   "name": "python3"
  },
  "language_info": {
   "codemirror_mode": {
    "name": "ipython",
    "version": 3
   },
   "file_extension": ".py",
   "mimetype": "text/x-python",
   "name": "python",
   "nbconvert_exporter": "python",
   "pygments_lexer": "ipython3",
   "version": "3.10.4"
  }
 },
 "nbformat": 4,
 "nbformat_minor": 2
}
